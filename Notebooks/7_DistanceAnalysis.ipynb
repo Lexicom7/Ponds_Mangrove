{
 "cells": [
  {
   "cell_type": "code",
   "execution_count": 8,
   "id": "initial_id",
   "metadata": {
    "collapsed": true,
    "ExecuteTime": {
     "end_time": "2023-08-07T07:28:29.784468900Z",
     "start_time": "2023-08-07T07:27:22.659942Z"
    }
   },
   "outputs": [],
   "source": [
    "import geopandas as gpd\n",
    "\n",
    "# Load the ponds layer\n",
    "ponds = gpd.read_file(\"D:\\Jobs\\DLR\\Data\\ponds_mangroves.gpkg\")\n",
    "\n",
    "\n",
    "# List of years\n",
    "years = [1996, 2007, 2008, 2009, 2010, 2015, 2016, 2017, 2018, 2019]\n",
    "\n",
    "for year in years:\n",
    "    # Read the mangrove polygon layer for the specific year\n",
    "    mangrove_layer = gpd.read_file(f\"Bangladesh/mangrove_shp/gmw_v3_{year}_vec_bang.shp\").to_crs(32645)\n",
    "    \n",
    "    # Function to calculate minimum distance to the mangroves\n",
    "    def min_distance_to_mangroves(pond_geometry):\n",
    "        distances = mangrove_layer['geometry'].distance(pond_geometry)\n",
    "        return distances.min()\n",
    "\n",
    "    # Apply the function to calculate distances and create new column\n",
    "    column_name = f'n{year}'\n",
    "    ponds_layer[column_name] = ponds_layer['geometry'].apply(min_distance_to_mangroves)\n",
    "\n",
    "    print(f\"Year {year} is finished.\")\n"
   ]
  },
  {
   "cell_type": "markdown",
   "source": [
    "## Proximity analysis between mangrove forest and ponds\n",
    "\n",
    "In this part we add to the main ponds dataset the columns related with the distance in meters with the closest mangrove forest.\n"
   ],
   "metadata": {
    "collapsed": false
   },
   "id": "56fb4ab2060a2890"
  },
  {
   "cell_type": "code",
   "execution_count": null,
   "outputs": [],
   "source": [
    "for year in years:\n",
    "    # Read the mangrove polygon layer for the specific year\n",
    "    mangrove_layer = gpd.read_file(f\"Bangladesh/mangrove_shp/gmw_v3_{year}_vec_bang.shp\").to_crs(32645)\n",
    "    \n",
    "    # Function to calculate minimum distance to the mangroves\n",
    "    def min_distance_to_mangroves(pond_geometry):\n",
    "        distances = mangrove_layer['geometry'].distance(pond_geometry)\n",
    "        return distances.min()\n",
    "\n",
    "    # Apply the function to calculate distances and create new column\n",
    "    column_name = f'n{year}'\n",
    "    ponds_layer[column_name] = ponds_layer['geometry'].apply(min_distance_to_mangroves)\n",
    "\n",
    "    print(f\"Year {year} is finished.\")\n",
    "\n",
    "ponds_layer.head()"
   ],
   "metadata": {
    "collapsed": false
   },
   "id": "1dc95c2879a34e7f"
  },
  {
   "cell_type": "code",
   "execution_count": null,
   "outputs": [],
   "source": [
    "# Save the new layer\n",
    "ponds_layer.to_file('ponds_mangroves_dist.gpkg', driver='GPKG')"
   ],
   "metadata": {
    "collapsed": false
   },
   "id": "68e0f66112ddedbb"
  }
 ],
 "metadata": {
  "kernelspec": {
   "display_name": "Python 3",
   "language": "python",
   "name": "python3"
  },
  "language_info": {
   "codemirror_mode": {
    "name": "ipython",
    "version": 2
   },
   "file_extension": ".py",
   "mimetype": "text/x-python",
   "name": "python",
   "nbconvert_exporter": "python",
   "pygments_lexer": "ipython2",
   "version": "2.7.6"
  }
 },
 "nbformat": 4,
 "nbformat_minor": 5
}
