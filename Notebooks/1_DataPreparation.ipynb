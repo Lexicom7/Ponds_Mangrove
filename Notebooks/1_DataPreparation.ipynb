{
 "cells": [
  {
   "cell_type": "markdown",
   "source": [
    "# **Analysis of the influence of aquaculture pond construction on mangrove forests in Asian countries.**\n",
    "\n",
    "## Introduction\n",
    "Almost one third of the world's mangrove forests have been lost due to deforestation in the last 50 years (Alongi, 2002; Barbier, 2014). Along with coastal development, another major cause of global mangrove deforestation is the development of shrimp farms to support a booming export fishing industry (Barbier and Cox, 2004; Hamilton, 2020; Richards and Friess, 2016), with global demand for shrimp continuing to rise (Anderson et al., 2019). A study by Hamilton (2013) found that 51.9% of the original mangrove areas have been deforested between the 1970s and after 2004, with commercial aquaculture accounting for 28% of the total mangrove loss in eight countries: Indonesia, Brazil, Bangladesh, India, Thailand, Vietnam, Ecuador and China.\n",
    "\n",
    "This notebook series studies the influence of aquaculture pond construction on mangrove forests through spatial analysis of two datasets: Aquaculture dynamics (Ottinger et al., 2021) and the Global Mangrove Watch version 3 (Bunting et al., 2018; Bunting, Rosenqvist, Hilarides, Lucas, & Thomas, 2022; Bunting, Rosenqvist, Hilarides, Lucas, Thomas, et al., 2022).\n",
    "\n",
    "The general objective is to look for a relationship between the activation or construction of aquaculture ponds and the loss of mangrove forest extent. For this purpose, several notebooks were made for the different steps in the analysis process:\n",
    "\n",
    "\n",
    "1. DataPreparation: The datasets are divided by countries in Asia and the layers are organised in separate folders.\n",
    "2.   DataAnalysis: We proceed to analyse the relationship between both datasets using geoprocessing tools and working with dataframes.\n",
    "MangroveChangeAnalysis: Only the Global Mangrove Watch dataset is analysed and an analysis of the dynamics within Asia is made.\n",
    "4. GraphicOutput: The results of the analysis are visualised for interpretation and understanding.\n",
    "5.   HexagonMangrove: Mapping the cumulative mangrove forest loss from 1996 to 2020 in the ten countries with the highest mangrove loss in Asia.\n",
    "6.   HexagonPonds: Mapping cumulative mangrove loss due to pond construction from 1996 to 2019."
   ],
   "metadata": {
    "collapsed": false,
    "id": "e5f15fe0428fe95d"
   },
   "id": "e5f15fe0428fe95d"
  },
  {
   "cell_type": "markdown",
   "source": [
    "# Notebooks 1: Preparation of datasets for further analysis\n",
    "\n",
    "In this notebook, folders will be created for each country in which future analysis will be carried out. As mentioned above, three datasets will be used:\n",
    "\n",
    "1.   Global Mangrove Watch version 3\n",
    "2.   Aquaculture Dynamics\n",
    "3.   The Open Street Map national boundaries layer.\n",
    "\n",
    "The OSM boundaries were selected because of the errors and differences in shoreline between the different layers. Thus if mangrove forest is lost in the first coastal strip, for example, it would not be observed due to the use of a fixed shoreline to trim the layers.\n",
    "\n"
   ],
   "metadata": {
    "id": "TSZAydGJs4rQ"
   },
   "id": "TSZAydGJs4rQ"
  },
  {
   "cell_type": "markdown",
   "source": [
    "We start by importing the necessary python libraries."
   ],
   "metadata": {
    "id": "Tpdga75LvHgq"
   },
   "id": "Tpdga75LvHgq"
  },
  {
   "cell_type": "code",
   "execution_count": 1,
   "outputs": [],
   "source": [
    "# Import necessary libraries\n",
    "import geopandas as gpd\n",
    "import os"
   ],
   "metadata": {
    "id": "8ab677b4533c5066",
    "ExecuteTime": {
     "end_time": "2023-09-29T12:28:06.802908300Z",
     "start_time": "2023-09-29T12:28:06.692974Z"
    }
   },
   "id": "8ab677b4533c5066"
  },
  {
   "cell_type": "markdown",
   "source": [
    "Then we define the variables to be used in this case are only the years in which we are going to do our analysis. These years are the ones that coincide both data sets. We also define the address of the files to be used."
   ],
   "metadata": {
    "collapsed": false,
    "id": "6fe49da08639787d"
   },
   "id": "6fe49da08639787d"
  },
  {
   "cell_type": "code",
   "execution_count": 5,
   "outputs": [],
   "source": [
    "#Define the years for analysis\n",
    "years = [1996, 2007, 2008, 2009, 2010, 2015, 2016, 2017, 2018, 2019]\n",
    "\n",
    "# File paths\n",
    "ponds_path = 'Aquaculture_Dynamics_Asia/asia_aquaculture_ponds_dynamics_stats_otsu_1984_to_2019.gpkg'\n",
    "boundaries_path = 'OSMAsiaBoundariesL2.gpkg'\n",
    "mangroves_paths = [f'GMW_v3/asia/gmw_v3_asia_{year}.shp' for year in years]\n",
    "hexagon_path = 'hexagons_output.gpkg'\n",
    "\n",
    "# Load pond layer\n",
    "ponds = gpd.read_file(ponds_path)\n",
    "\n",
    "# Load country boundaries layer\n",
    "boundaries = gpd.read_file(boundaries_path)\n",
    "\n",
    "# Load mangrove layers\n",
    "mangroves = [gpd.read_file(path) for path in mangroves_paths]\n",
    "\n",
    "# Load hexagon layers\n",
    "hexagon = gpd.read_file(hexagon_pathds)"
   ],
   "metadata": {
    "id": "5a53c7a83064f2be",
    "ExecuteTime": {
     "end_time": "2023-09-29T12:32:28.401176600Z",
     "start_time": "2023-09-29T12:31:26.891286600Z"
    }
   },
   "id": "5a53c7a83064f2be"
  },
  {
   "cell_type": "markdown",
   "source": [
    "Then we define the countries where we want to do our analysis and create the folders where we are going to store the cut and ready layers for each country. In this case we will analyse the first 10 countries where mangrove loss has occurred in Asia region."
   ],
   "metadata": {
    "collapsed": false,
    "id": "4906ba58f122a2b8"
   },
   "id": "4906ba58f122a2b8"
  },
  {
   "cell_type": "code",
   "execution_count": 6,
   "outputs": [],
   "source": [
    "# Define the list of countries for which folders will be created\n",
    "countries = [\"Indonesia\", \"Myanmar\", \"India\", \"Philippines\", \"Vietnam\", \"Bangladesh\", \"Malaysia\", \"Thailand\", \"Pakistan\", \"China\"]\n",
    "\n",
    "# Create a folder for each country if it does not exist\n",
    "for country in countries:\n",
    "    os.makedirs(country, exist_ok=True)\n"
   ],
   "metadata": {
    "id": "58f9d19fd6469c49",
    "ExecuteTime": {
     "end_time": "2023-09-29T12:32:53.475643500Z",
     "start_time": "2023-09-29T12:32:53.402844900Z"
    }
   },
   "id": "58f9d19fd6469c49"
  },
  {
   "cell_type": "markdown",
   "source": [
    "Finally, we create a loop for each country in order to make Clip, Transform, and Save the Layers in each folder. We use for our analysis the projection WGS 84  Pseudo-Mercator, Spherical Mercator used by Google Maps, OpenStreetMap, Bing, ArcGIS, ESRI"
   ],
   "metadata": {
    "collapsed": false,
    "id": "1998322b918d77b5"
   },
   "id": "1998322b918d77b5"
  },
  {
   "cell_type": "code",
   "execution_count": 7,
   "outputs": [],
   "source": [
    "# Iterate through the countries\n",
    "for country in countries:\n",
    "    # Get the boundary for the specific country\n",
    "    boundary = boundaries[boundaries['name'] == country]\n",
    "    \n",
    "    \n",
    "    clipped_hex = gpd.clip(hexagon, boundary)\n",
    "\n",
    "    # Clip the pond layer using the country boundary\n",
    "    clipped_ponds = gpd.clip(ponds, boundary)\n",
    "\n",
    "    # Clip the mangrove layers using the country boundary\n",
    "    clipped_mangroves = [gpd.clip(mangrove, boundary) for mangrove in mangroves]\n",
    "\n",
    "    # Convert the clipped hexagon layer to EPSG:3857 and save as GPKG\n",
    "    clipped_hex.to_crs(epsg=3857).to_file(os.path.join(country, '_hex.gpkg'), driver='GPKG')\n",
    "    \n",
    "    # Convert the clipped pond layer to EPSG:3857 and save as GPKG\n",
    "    #lipped_ponds.to_crs(epsg=3857).to_file(os.path.join(country, '_ponds.gpkg'), driver='GPKG')\n",
    "    \n",
    "    # Convert the clipped mangrove layers to EPSG:3857 and save as GPKG\n",
    "    for year, mangrove in zip(years, clipped_mangroves):  # Corrected years\n",
    "        mangrove.to_crs(epsg=3857).to_file(os.path.join(country, f'_mangroves_{year}.gpkg'), driver='GPKG')\n",
    "\n"
   ],
   "metadata": {
    "id": "3d7a1e53dd010fb1",
    "ExecuteTime": {
     "end_time": "2023-09-29T12:52:12.320371300Z",
     "start_time": "2023-09-29T12:32:57.164210Z"
    }
   },
   "id": "3d7a1e53dd010fb1"
  },
  {
   "cell_type": "markdown",
   "source": [
    "Within each country you will find the following folders"
   ],
   "metadata": {
    "id": "ml__-Ko4zun8"
   },
   "id": "ml__-Ko4zun8"
  },
  {
   "cell_type": "markdown",
   "source": [],
   "metadata": {
    "id": "57JQFAukzfuU"
   },
   "id": "57JQFAukzfuU"
  }
 ],
 "metadata": {
  "kernelspec": {
   "display_name": "ArcGISPro",
   "language": "Python",
   "name": "python3"
  },
  "language_info": {
   "file_extension": ".py",
   "name": "python",
   "version": "3"
  },
  "colab": {
   "provenance": []
  }
 },
 "nbformat": 4,
 "nbformat_minor": 5
}
